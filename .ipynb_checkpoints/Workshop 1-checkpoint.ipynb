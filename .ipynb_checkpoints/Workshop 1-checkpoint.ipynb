{
 "cells": [
  {
   "cell_type": "markdown",
   "metadata": {},
   "source": [
    "WORKSHOP 1\n",
    "=========="
   ]
  },
  {
   "cell_type": "markdown",
   "metadata": {},
   "source": [
    "Convertire da Plasm Classic in PyPlasm alcuni esempi presi dai capitoli 1 e 2 del libro\n",
    "======================================================================================="
   ]
  },
  {
   "cell_type": "markdown",
   "metadata": {},
   "source": [
    "\n",
    "\n",
    "\n",
    "\n",
    "\n",
    "Script 1.5.1 pagina 25 del capitolo 1\n",
    "====================================="
   ]
  },
  {
   "cell_type": "markdown",
   "metadata": {},
   "source": [
    "#### Poliedro formato da 6 vertici"
   ]
  },
  {
   "cell_type": "code",
   "execution_count": 2,
   "metadata": {},
   "outputs": [
    {
     "name": "stdout",
     "output_type": "stream",
     "text": [
      "Evaluating fenvs.py..\n",
      "...fenvs.py imported in 0.025979851623555 seconds\n"
     ]
    }
   ],
   "source": [
    "from larlib import *"
   ]
  },
  {
   "cell_type": "code",
   "execution_count": 2,
   "metadata": {
    "collapsed": true
   },
   "outputs": [],
   "source": [
    "#Plasm Classic Code"
   ]
  },
  {
   "cell_type": "markdown",
   "metadata": {},
   "source": [
    "DEF L_shape1 = MKPOL:< verts, cells, pols>\n",
    "WHERE\n",
    "   verts = << 0,0 >,< 2,0 >,< 2,1 >,< 1,1 >,< 1,2 >,< 0,2 >>,\n",
    "   cells = << 1,2,3,4 >,< 4,5,6,1 >>,\n",
    "   pols = << 1 >,< 2 >>\n",
    "END;\n",
    "\n",
    "DEF L_shape2 = MKPOL:< verts, cells, pols >\n",
    "WHERE\n",
    "   verts = << 0,0 >,< 2,0 >,< 2,1 >,< 1,1 >,< 1,2 >,< 0,2 >>,\n",
    "   cells = << 1,2,3,4 >,< 4,5,6,1 >>,\n",
    "   pols = << 1,2 >>\n",
    "END;\n",
    "    "
   ]
  },
  {
   "cell_type": "code",
   "execution_count": 3,
   "metadata": {
    "collapsed": true
   },
   "outputs": [],
   "source": [
    "#PyPlasm"
   ]
  },
  {
   "cell_type": "code",
   "execution_count": 3,
   "metadata": {},
   "outputs": [
    {
     "data": {
      "text/plain": [
       "<pyplasm.xgepy.Hpc; proxy of <Swig Object of type 'std::shared_ptr< Hpc > *' at 0x000001D4E90F7570> >"
      ]
     },
     "execution_count": 3,
     "metadata": {},
     "output_type": "execute_result"
    }
   ],
   "source": [
    "def l_shape1():                                     ###l_shape1 e l_shape2 generano la stessa figura###\n",
    "    verts = [[0,0],[2,0],[2,1],[1,1],[1,2],[0,2]]\n",
    "    cells = [[1,2,3,4],[4,5,6,1]]\n",
    "    pols = [[1],[2]]\n",
    "    return MKPOL ([verts,cells,pols]);\n",
    "VIEW (l_shape1())"
   ]
  },
  {
   "cell_type": "markdown",
   "metadata": {},
   "source": [
    "![\"Workshop 1.1.1\"](Workshop 1.1.1.png)"
   ]
  },
  {
   "cell_type": "code",
   "execution_count": 5,
   "metadata": {},
   "outputs": [
    {
     "data": {
      "text/plain": [
       "<pyplasm.xgepy.Hpc; proxy of <Swig Object of type 'std::shared_ptr< Hpc > *' at 0x0000014CA37E5570> >"
      ]
     },
     "execution_count": 5,
     "metadata": {},
     "output_type": "execute_result"
    }
   ],
   "source": [
    "def l_shape2():\n",
    "    verts = [[0,0],[2,0],[2,1],[1,1],[1,2],[0,2]]\n",
    "    cells = [[1,2,3,4],[4,5,6,1]]\n",
    "    pols = [[1,2]]\n",
    "    return MKPOL ([verts,cells,pols]);\n",
    "VIEW (l_shape2())"
   ]
  },
  {
   "cell_type": "markdown",
   "metadata": {},
   "source": [
    "Script 1.5.3 pagina 27 del capitolo 1\n",
    "====================================="
   ]
  },
  {
   "cell_type": "markdown",
   "metadata": {},
   "source": [
    "#### Tavolo"
   ]
  },
  {
   "cell_type": "code",
   "execution_count": 6,
   "metadata": {
    "collapsed": true
   },
   "outputs": [],
   "source": [
    "#Plasm Classic Code"
   ]
  },
  {
   "cell_type": "markdown",
   "metadata": {},
   "source": [
    "DEF Leg = CUBOID: < 0.1 ; 0.1 , 0.7 > ;\n",
    "DEF Plane = CUBOID: < 1 , 1 , 0.2 > ;\n",
    "    \n",
    "DEF Table = STRUCT: <\n",
    "   Leg, T:1:0.9, Leg, T:2:0.9, Leg, T:1:-0.9, Leg,\n",
    "   T:< 2,3 >:< -0.9,0.7 >,Plane>;\n",
    "        \n",
    "DEF Table1 = STRUCT:<\n",
    "   Leg, T:1:0.9:Leg, T:< 1,2 >:< 0.9,0.9 >:Leg, T:2:0.9:Leg,\n",
    "   T:3:0.7:Plane >;"
   ]
  },
  {
   "cell_type": "code",
   "execution_count": 7,
   "metadata": {
    "collapsed": true
   },
   "outputs": [],
   "source": [
    "#PyPlasm"
   ]
  },
  {
   "cell_type": "code",
   "execution_count": 8,
   "metadata": {},
   "outputs": [
    {
     "data": {
      "text/plain": [
       "<pyplasm.xgepy.Hpc; proxy of <Swig Object of type 'std::shared_ptr< Hpc > *' at 0x0000014C997DB3C0> >"
      ]
     },
     "execution_count": 8,
     "metadata": {},
     "output_type": "execute_result"
    }
   ],
   "source": [
    "def leg():                      ###genera la gamba del tavolo###\n",
    "    return CUBOID ([0.1,0.1,0.7])\n",
    "def plane():                    ###genera il ripiano del tavolo###\n",
    "    return CUBOID ([1,1,0.2])\n",
    "def table():                    ###genera il tavolo###\n",
    "    return STRUCT([leg(),T(1)(0.9),leg(),T(2)(0.9),leg(),T(1)(-0.9),leg(),T([2,3])([-0.9,0.7]),plane()]);\n",
    "VIEW (table())"
   ]
  },
  {
   "cell_type": "code",
   "execution_count": 9,
   "metadata": {},
   "outputs": [
    {
     "data": {
      "text/plain": [
       "<pyplasm.xgepy.Hpc; proxy of <Swig Object of type 'std::shared_ptr< Hpc > *' at 0x0000014CA37E5600> >"
      ]
     },
     "execution_count": 9,
     "metadata": {},
     "output_type": "execute_result"
    }
   ],
   "source": [
    "def table1():                   ###genera il tavolo con un altro metodo###\n",
    "    return STRUCT ([leg(),T(1)(0.9)(leg()),T([1,2])([0.9,0.9])(leg()),T(2)(0.9)(leg()),T(3)(0.7)(plane())]);\n",
    "VIEW (table1())"
   ]
  },
  {
   "cell_type": "markdown",
   "metadata": {},
   "source": [
    "![\"Workshop1.2\"](Workshop 1.2.jpg)"
   ]
  },
  {
   "cell_type": "markdown",
   "metadata": {},
   "source": [
    "Script 1.5.6 pagina 30 del capitolo 1\n",
    "====================================="
   ]
  },
  {
   "cell_type": "markdown",
   "metadata": {},
   "source": [
    "#### Funzione che genera una facciata di un palazzo"
   ]
  },
  {
   "cell_type": "code",
   "execution_count": 10,
   "metadata": {
    "collapsed": true
   },
   "outputs": [],
   "source": [
    "#Plasm Classic Code"
   ]
  },
  {
   "cell_type": "markdown",
   "metadata": {},
   "source": [
    "DEF facade (n,m::IsIntPos) = STRUCT:<\n",
    "   Q:xRithm * Q:yRithm,\n",
    "   Q:xVoid * Q:yRithm,\n",
    "   Q:xRithm * Q:yVoid ,\n",
    "   @1:(Q:xVoid * Q:yVoid) >\n",
    "WHERE\n",
    "   xRithm = ##:n:< 5,-2,-5,-2 > AR 5,\n",
    "   yRithm = ##:m:< 7,-5,-2 > AR 7,\n",
    "   xVoid = AA:-:xRithm,\n",
    "   yVoid = AA:-:yRithm\n",
    "END;"
   ]
  },
  {
   "cell_type": "code",
   "execution_count": 11,
   "metadata": {
    "collapsed": true
   },
   "outputs": [],
   "source": [
    "#PyPlasm"
   ]
  },
  {
   "cell_type": "code",
   "execution_count": 12,
   "metadata": {},
   "outputs": [
    {
     "data": {
      "text/plain": [
       "<pyplasm.xgepy.Hpc; proxy of <Swig Object of type 'std::shared_ptr< Hpc > *' at 0x0000014CA37E5750> >"
      ]
     },
     "execution_count": 12,
     "metadata": {},
     "output_type": "execute_result"
    }
   ],
   "source": [
    "def facade(n,m):\n",
    "    xRithm = [5, -2, -5, -2] * n\n",
    "    xRithm.append(5)\n",
    "    yRithm = [7, -5, -2] * m\n",
    "    yRithm.append(7)\n",
    "    xVoid = [-x for x in xRithm]\n",
    "    yVoid = [-y for y in yRithm]\n",
    "    \n",
    "    return STRUCT([PROD([QUOTE(xRithm),QUOTE(yRithm)]),PROD([QUOTE(xVoid),QUOTE(yRithm)]),PROD([QUOTE(xRithm),QUOTE(yRithm)]),SKEL_1(PROD([QUOTE(xVoid),QUOTE(yVoid)]))]);\n",
    "VIEW(facade(4,5))"
   ]
  },
  {
   "cell_type": "markdown",
   "metadata": {},
   "source": [
    "![\"Workshop 1.3\"](Workshop 1.3.jpg)"
   ]
  },
  {
   "cell_type": "markdown",
   "metadata": {
    "collapsed": true
   },
   "source": [
    "Script 1.6.2 pagina 38-39 del capitolo 1\n",
    "====================================="
   ]
  },
  {
   "cell_type": "markdown",
   "metadata": {},
   "source": [
    "#### Italy's Football Cup"
   ]
  },
  {
   "cell_type": "code",
   "execution_count": 13,
   "metadata": {
    "collapsed": true
   },
   "outputs": [],
   "source": [
    "#Plasm Classic Code"
   ]
  },
  {
   "cell_type": "markdown",
   "metadata": {},
   "source": [
    "DEF c1 = circle:1:< 48,1 > ACOLOR rgbacolor:< 0,1,0,1 >;\n",
    "DEF c2 = circle:0.7:< 48,1 > ACOLOR rgbacolor:< 1,1,1,1 >;\n",
    "DEF c3 = circle:0.4:< 48,1 > ACOLOR rgbacolor:< 1,0,0,1 >;\n",
    "\n",
    "DEF out = STRUCT:< c1, c2, c3 >;"
   ]
  },
  {
   "cell_type": "code",
   "execution_count": 14,
   "metadata": {
    "collapsed": true
   },
   "outputs": [],
   "source": [
    "#PyPlasm"
   ]
  },
  {
   "cell_type": "code",
   "execution_count": 15,
   "metadata": {
    "collapsed": true
   },
   "outputs": [],
   "source": [
    "def c1():\n",
    "    return(COLOR([0,1,0,1])(CIRCLE(1)([48,1])));\n",
    "def c2():\n",
    "    return(COLOR([1,1,1,1])(CIRCLE(0.7)([48,1])));\n",
    "def c3():\n",
    "    return(COLOR([1,0,0,1])(CIRCLE(0.4)([48,1])));\n",
    "def out():\n",
    "    return (STRUCT([c1(),c2(),c3()]));\n"
   ]
  },
  {
   "cell_type": "code",
   "execution_count": 16,
   "metadata": {},
   "outputs": [
    {
     "data": {
      "text/plain": [
       "<pyplasm.xgepy.Hpc; proxy of <Swig Object of type 'std::shared_ptr< Hpc > *' at 0x0000014CA37E54E0> >"
      ]
     },
     "execution_count": 16,
     "metadata": {},
     "output_type": "execute_result"
    }
   ],
   "source": [
    "VIEW(out())"
   ]
  },
  {
   "cell_type": "markdown",
   "metadata": {},
   "source": [
    "![Workshop 1.4](Workshop 1.4.jpg)"
   ]
  },
  {
   "cell_type": "markdown",
   "metadata": {},
   "source": [
    "Script 1.6.5 pagina 42 del capitolo 1\n",
    "==========================================="
   ]
  },
  {
   "cell_type": "markdown",
   "metadata": {},
   "source": [
    "#### Building's extrusion"
   ]
  },
  {
   "cell_type": "markdown",
   "metadata": {},
   "source": [
    "// Plan2D: crea un piano bidimensionale. Building1 e building2: svolgono l'estrusione del piano bidimensionale. AssemblyExtrusion: assembla i risultati di building1 e building2 //"
   ]
  },
  {
   "cell_type": "code",
   "execution_count": 17,
   "metadata": {
    "collapsed": true
   },
   "outputs": [],
   "source": [
    "#Plasm Classic Code"
   ]
  },
  {
   "cell_type": "markdown",
   "metadata": {},
   "source": [
    "DEF Extrude (n::IsIntPos; p::IsPol; h::IsRealPos) =\n",
    "    (MKPOL  [S1,S2,LIST SEL:n S3] UKPOL):p * Q:h\n",
    "DEF plan2D = Q:Xdims * Q:Ydims;\n",
    "DEF building1 = Extrude:< 10,plan2D,12 >;\n",
    "DEF building2 = Extrude:< 25,plan2D,20 >;\n",
    "\n",
    "STRUCT:< EMBED:1:plan2D, building1, building2 >;"
   ]
  },
  {
   "cell_type": "code",
   "execution_count": 18,
   "metadata": {
    "collapsed": true
   },
   "outputs": [],
   "source": [
    "#PyPlasm"
   ]
  },
  {
   "cell_type": "code",
   "execution_count": 19,
   "metadata": {
    "collapsed": true
   },
   "outputs": [],
   "source": [
    "def plan2D():\n",
    "    xDims = [1,-2,3,-2,4,-2,5,-2,6,-2,7,-2,8,-2,9,-2,10,-2]\n",
    "    yDims = [3,-2,4,-2,5,-2,6,-2,7,-2,8,-2]\n",
    "    \n",
    "    return (PROD([QUOTE(xDims),QUOTE(yDims)]));\n",
    "\n",
    "def building1():\n",
    "    return (EXTRUDE([10,plan2D(),12]));\n",
    "\n",
    "def building2():\n",
    "    return (EXTRUDE([25,plan2D(),20]));\n",
    "\n",
    "def assemblyExtrusion():\n",
    "    return (STRUCT([EMBED(1)(plan2D()),building1(),building2()]));\n"
   ]
  },
  {
   "cell_type": "code",
   "execution_count": 31,
   "metadata": {},
   "outputs": [
    {
     "data": {
      "text/plain": [
       "<pyplasm.xgepy.Hpc; proxy of <Swig Object of type 'std::shared_ptr< Hpc > *' at 0x0000014CA37E56F0> >"
      ]
     },
     "execution_count": 31,
     "metadata": {},
     "output_type": "execute_result"
    }
   ],
   "source": [
    "VIEW(plan2D())"
   ]
  },
  {
   "cell_type": "markdown",
   "metadata": {},
   "source": [
    "![\"Workshop 1.5\"](Workshop 1.5.jpg)"
   ]
  },
  {
   "cell_type": "code",
   "execution_count": 32,
   "metadata": {},
   "outputs": [
    {
     "data": {
      "text/plain": [
       "<pyplasm.xgepy.Hpc; proxy of <Swig Object of type 'std::shared_ptr< Hpc > *' at 0x0000014CA37E5480> >"
      ]
     },
     "execution_count": 32,
     "metadata": {},
     "output_type": "execute_result"
    }
   ],
   "source": [
    "VIEW(building1())"
   ]
  },
  {
   "cell_type": "markdown",
   "metadata": {},
   "source": [
    "![\"Workshop 1.6\"](Workshop 1.6.jpg)"
   ]
  },
  {
   "cell_type": "code",
   "execution_count": 33,
   "metadata": {},
   "outputs": [
    {
     "data": {
      "text/plain": [
       "<pyplasm.xgepy.Hpc; proxy of <Swig Object of type 'std::shared_ptr< Hpc > *' at 0x0000014CA37E56C0> >"
      ]
     },
     "execution_count": 33,
     "metadata": {},
     "output_type": "execute_result"
    }
   ],
   "source": [
    "VIEW(building2())"
   ]
  },
  {
   "cell_type": "markdown",
   "metadata": {},
   "source": [
    "![\"Workshop 1.7\"](Workshop 1.7.jpg)"
   ]
  },
  {
   "cell_type": "code",
   "execution_count": 34,
   "metadata": {},
   "outputs": [
    {
     "data": {
      "text/plain": [
       "<pyplasm.xgepy.Hpc; proxy of <Swig Object of type 'std::shared_ptr< Hpc > *' at 0x0000014CA37E55A0> >"
      ]
     },
     "execution_count": 34,
     "metadata": {},
     "output_type": "execute_result"
    }
   ],
   "source": [
    "VIEW(assemblyExtrusion())"
   ]
  },
  {
   "cell_type": "markdown",
   "metadata": {},
   "source": [
    "![\"Workshop 1.8\"](Workshop 1.8.jpg)"
   ]
  },
  {
   "cell_type": "markdown",
   "metadata": {
    "collapsed": true
   },
   "source": [
    "Script 2.2.2 pagina 75 del capitolo 2\n",
    "====================================="
   ]
  },
  {
   "cell_type": "markdown",
   "metadata": {},
   "source": [
    "#### Cilindri con differente raggio, altezza e numero di facce"
   ]
  },
  {
   "cell_type": "code",
   "execution_count": 35,
   "metadata": {
    "collapsed": true
   },
   "outputs": [],
   "source": [
    "#Plasm Classic Code"
   ]
  },
  {
   "cell_type": "markdown",
   "metadata": {},
   "source": [
    "STRUCT:< \n",
    "   CYLINDER:< 1,1 >:4, T:1:2.5,\n",
    "   CYLINDER:< 1,2 >:8, T:1:3.5,\n",
    "   CYLINDER:< 1.5,3 >:16, T:1::4.5,\n",
    "   CYLINDER:< 1.5,4 >:24 >;"
   ]
  },
  {
   "cell_type": "code",
   "execution_count": 36,
   "metadata": {
    "collapsed": true
   },
   "outputs": [],
   "source": [
    "#PyPlasm"
   ]
  },
  {
   "cell_type": "code",
   "execution_count": 37,
   "metadata": {
    "collapsed": true
   },
   "outputs": [],
   "source": [
    "def multiCilindri ():\n",
    "    cilindro_1 = T(1)(5)(CYLINDER([1,1])(4))\n",
    "    cilindro_2 = T(1)(10)(CYLINDER([1,2])(8))\n",
    "    cilindro_3 = T(1)(15)(CYLINDER([1.5,3])(16))\n",
    "    cilindro_4 = T(1)(20)(CYLINDER([1.5,4])(24))\n",
    "    \n",
    "    return (STRUCT([cilindro_1, cilindro_2, cilindro_3, cilindro_4]));"
   ]
  },
  {
   "cell_type": "code",
   "execution_count": 38,
   "metadata": {},
   "outputs": [
    {
     "data": {
      "text/plain": [
       "<pyplasm.xgepy.Hpc; proxy of <Swig Object of type 'std::shared_ptr< Hpc > *' at 0x0000014CA37E5AB0> >"
      ]
     },
     "execution_count": 38,
     "metadata": {},
     "output_type": "execute_result"
    }
   ],
   "source": [
    "VIEW(multiCilindri())"
   ]
  },
  {
   "cell_type": "markdown",
   "metadata": {
    "collapsed": true
   },
   "source": [
    "![\"Workshop 1.9\"](Workshop 1.9.jpg)"
   ]
  },
  {
   "cell_type": "code",
   "execution_count": null,
   "metadata": {
    "collapsed": true
   },
   "outputs": [],
   "source": []
  }
 ],
 "metadata": {
  "kernelspec": {
   "display_name": "Python 3",
   "language": "python",
   "name": "python3"
  },
  "language_info": {
   "codemirror_mode": {
    "name": "ipython",
    "version": 3
   },
   "file_extension": ".py",
   "mimetype": "text/x-python",
   "name": "python",
   "nbconvert_exporter": "python",
   "pygments_lexer": "ipython3",
   "version": "3.6.3"
  }
 },
 "nbformat": 4,
 "nbformat_minor": 2
}
